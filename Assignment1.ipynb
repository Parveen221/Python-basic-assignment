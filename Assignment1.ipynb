{
  "nbformat": 4,
  "nbformat_minor": 0,
  "metadata": {
    "colab": {
      "provenance": []
    },
    "kernelspec": {
      "name": "python3",
      "display_name": "Python 3"
    },
    "language_info": {
      "name": "python"
    }
  },
  "cells": [
    {
      "cell_type": "markdown",
      "source": [
        "ANSWERS"
      ],
      "metadata": {
        "id": "Zw_7WOWyxt2s"
      }
    },
    {
      "cell_type": "markdown",
      "source": [
        "# What is Python, and why is it popular?\n",
        "Answers. Python is a interpreted programming language, and it is developed by\n",
        "          Guido van Rossum in 1991. It is designed to assign the task to the computer and work on that task. However it is versatile in nature, it is highlevel language, and it is easy to learn and it can be used for the web developement, automation, data science, and machine learning.\n",
        "         \n",
        "          It is popular becauiuse of the following reasons:\n",
        "\n",
        "          1. It is widely used in the industry.\n",
        "          2. it is easy to learn.\n",
        "          3. It is versatile in nature and it's scalable.\n",
        "          4. High rich ecosystem of libraries.\n",
        "          5. Active community.\n",
        "          6.open sources.\n",
        "          7.It is easy to read and it's Simplicity\"\"\"\n",
        "\n",
        "# What is an interpreter in Python?\n",
        "  Answers: The interpreter in python is program that reads the codes line by\n",
        "        line and translate it into the machine codes.\n",
        "\n",
        "# What are pre-defined keywords in Python?\n",
        "Answer: These are the pre defined words that holds a special meaning and have a specific purpose like for example print(), input(),int() etc. To get the pre defined keywords in python we can use \"help(\"keywords\")\". The list is given below:\n",
        "      "
      ],
      "metadata": {
        "id": "4yGxxO54zh_9"
      }
    },
    {
      "cell_type": "code",
      "source": [
        "help(\"keywords\")"
      ],
      "metadata": {
        "colab": {
          "base_uri": "https://localhost:8080/"
        },
        "id": "jrc72Yav6RVM",
        "outputId": "896f7e23-5488-4402-e8ab-9b22e6776a57"
      },
      "execution_count": null,
      "outputs": [
        {
          "output_type": "stream",
          "name": "stdout",
          "text": [
            "\n",
            "Here is a list of the Python keywords.  Enter any keyword to get more help.\n",
            "\n",
            "False               class               from                or\n",
            "None                continue            global              pass\n",
            "True                def                 if                  raise\n",
            "and                 del                 import              return\n",
            "as                  elif                in                  try\n",
            "assert              else                is                  while\n",
            "async               except              lambda              with\n",
            "await               finally             nonlocal            yield\n",
            "break               for                 not                 \n",
            "\n"
          ]
        }
      ]
    },
    {
      "cell_type": "markdown",
      "source": [
        "# Can keywords be used as variable names?\n",
        "Answers: Keywords can't ber used as a variable names in python.\n",
        "\n",
        "# What is mutability in Python?\n",
        "Answer: It is defined as the value of the object can be changed or modified after it is created. for example list[], sets{}, dictionary{}, are mutables.\n",
        "\n",
        "# Why are lists mutable, but tuples are immutable?\n",
        "Answer- The lists are mutable because list are designed very flexible in the python. However the object in the list cabn be changed or removed and it also uses pointers to locvate the object as it stores the value in a separate quantity. It uses square bracket for example:\n",
        "\n",
        "a=[\"Ram\", 12. 3+6y, \"pwskills\"]\n",
        "\n",
        "Tuples are immutable because it is designed in a way that it's value can not be cahnged after creation. HOwever it is used when we want to store the data that should not be changed. It uses parenthesis for the creatiorn. For example:\n",
        "\n",
        "days = (\"Monday\", \"Tuesday\", \"Wednesday\", \"Thursday\", \"Friday\", \"Saturday\", \"Sunday\")\n",
        "\n",
        "They are much faster than list has it does not reuire extra memory for the modification.\n",
        "\n",
        "\n",
        "# What is the difference between “==” and “is” operators in Python.\n",
        "\n",
        "Answer: \"==\" this operators is also called equity operator and it tells us whether the value assigned to one variable is equal to the other one or not. It means it compares the values between the variables.\n",
        "\n",
        "for instance:\n",
        "\n",
        "input(\"enter the value\")\n",
        "if a==3:\n",
        "print(\"value matched\")\n",
        " else:\n",
        "    print(\"Values are not equal.\")\n",
        "\n",
        "\n",
        "\"is\" This operator is also called the identity operator and it checks whether the two variables point to the same exact memory location or not. For example:\n",
        "\n",
        "x = [4, 5, 6]\n",
        "y = x\n",
        "\n",
        "\n",
        "# What are logical operators in Python?\n",
        "Answers: Logical operators are used to check the relationship betwwen the conditional statements. They return the boolean value on the basis of logical relationship between the statements. They are of 3 types:\n",
        "\n",
        "1. OR\n",
        "-> It returns the True value when if one of the condition is true.\n",
        " x=4\n",
        " print(x>3 or x<=6) # Return the true value if atleast one of the condition ture\n",
        "\n",
        " 2. AND\n",
        " -> It returns the True value only when both the conditions are ture, otherwise false.\n",
        "\n",
        " x=4\n",
        " Print(x>3 and x<5) # both the condoition true it also return true.\n",
        "\n",
        " 3. Not\n",
        " -> It return the opposite value when the condition is true or false.\n",
        "  x=3\n",
        "if not(x>4):\n",
        "  print( \"value is smaller than 4\")\n",
        "else:\n",
        "    print(\"value is greater than 4\")\n",
        "\n",
        "\n"
      ],
      "metadata": {
        "id": "vklOXWjn7ISw"
      }
    },
    {
      "cell_type": "markdown",
      "source": [
        "# 9. What is type casting in Python?\n",
        "Answer: It is basically means that change the data type on element to the other.\n",
        "\n",
        "Python provides two types of type casting:\n",
        "\n",
        "1.Implicit Type Casting\n",
        "\n",
        "2.Explicit Type Casting\n"
      ],
      "metadata": {
        "id": "Rcb3Fc6yZ__h"
      }
    },
    {
      "cell_type": "markdown",
      "source": [
        "# 10. What is the difference between implicit and explicit type casting?\n",
        "Answer: Implicit type casting, also called automatic type conversion, is when Python automatically converts one data type to another without needing to change it forcefully by humans.\n",
        "\n",
        "For example:\n",
        "\n",
        "a = 5      # Integer\n",
        "b = 2.5    # Float\n",
        "\n",
        "result = a + b  # Python automatically converts 'a' to a float for the addition.\n",
        "print(result)   # Output: 7.5 (float result)\n",
        "\n",
        "\n",
        "Explicit Type Casting: It is also called manual type conversion, is when the humans manually converts one data type into another using type casting functions like int(), float(), str(), etc\n",
        "\n",
        "for example:\n",
        "\n",
        "a = \"123\"   # String\n",
        "b = int(a)  # Manually convert string to integer using int()\n",
        "\n",
        "print(b)     # Output: 123 (integer)\n",
        "\n"
      ],
      "metadata": {
        "id": "5WuWs-doamPm"
      }
    },
    {
      "cell_type": "markdown",
      "source": [
        "# 11. What is the purpose of conditional statements in Python?\n",
        "Answer: Purpose of conditional statement in python is basically to control the flow of the program when the conditionals in porgram is satisfied.They are of 3 types:\n",
        "\n",
        "1. conditional statement (if, elif, if-elif-elif, nested if-else)\n",
        "\n",
        "2. Loop statement (while, for)\n",
        "\n",
        "3. control statement ( break, continue)\n"
      ],
      "metadata": {
        "id": "wonF07fKcXrP"
      }
    },
    {
      "cell_type": "markdown",
      "source": [
        "# 12. How does the elif statement work?\n",
        "Answer: This statement in Python is used when you want to check multiple conditions in sequence and execute different body of code based on the first True condition.\n",
        "\n",
        "It is in between the If and else statement. The first statement of if is not true then elif will works, if elif body code is not true, then the program will execute the else statement.\n",
        "\n",
        "for example:\n",
        "\n",
        "age = 25\n",
        "\n",
        "if age < 18:\n",
        "\n",
        "    print(\"You are a minor.\")\n",
        "\n",
        "elif age >= 18 and age <= 60:\n",
        "\n",
        "    print(\"You are an adult.\")\n",
        "\n",
        "else:\n",
        "\n",
        "    print(\"You are a senior citizen.\")\n",
        "\n",
        "\n"
      ],
      "metadata": {
        "id": "r_OcemxHdVDT"
      }
    },
    {
      "cell_type": "markdown",
      "source": [
        "# 13. What is the difference between for and while loop?\n",
        "Answer: A for loop is used when you know in advance how many times you want to iterate over a sequence (like a list, range, or string). It's typically used when the number of iterations is definite or predefined.\n",
        "\n",
        "numbers = [1, 2, 3, 4, 5]\n",
        "\n",
        "for i in numbers:\n",
        "\n",
        "    print(i)\n",
        "\n",
        "\n",
        "A while loop is used when you want to repeat a block of code as long as a condition is true. The loop keeps running until the condition becomes False.\n",
        "It's generally used when the number of iterations is unknown or depends on a certain condition.\n",
        "\n",
        "number = 1\n",
        "\n",
        "while j <= 5:\n",
        "\n",
        "    print(j)\n",
        "\n",
        "    j += 1  # Increment the j\n"
      ],
      "metadata": {
        "id": "av6ZaTcXekWy"
      }
    },
    {
      "cell_type": "markdown",
      "source": [
        "# 14. Describe a scenario where a while loop is more suitable than a for loop.\n",
        "\n",
        "Answer: Imagine that every firday new movie releases and I will keep watching the movies until the price of teh ticket remains lower than 500 rupees. Here we don't know about the at what time the ticket price will go higher. However until then we will continue to watch movies in theatre. And in the same way, just like in the while loop, it is used when we do not the no of iteration or until the condition is met, but in for loop there is only a limited no. of iteration.\n"
      ],
      "metadata": {
        "id": "_zhW8RWhfh-f"
      }
    },
    {
      "cell_type": "markdown",
      "source": [
        "# Practical Questions:\n",
        "\n",
        "\n",
        "\n"
      ],
      "metadata": {
        "id": "lF4NkQXuV9Fg"
      }
    },
    {
      "cell_type": "markdown",
      "source": [
        "### 1. Write a Python program to print \"Hello, World!\"\n"
      ],
      "metadata": {
        "id": "HLW2VaK2NXc4"
      }
    },
    {
      "cell_type": "code",
      "source": [
        "\n",
        "print(\"Hello, World!\")\n"
      ],
      "metadata": {
        "colab": {
          "base_uri": "https://localhost:8080/"
        },
        "id": "xOT_2NcwUOSR",
        "outputId": "beb6c4be-616f-4417-ed0e-972b7830f860"
      },
      "execution_count": null,
      "outputs": [
        {
          "output_type": "stream",
          "name": "stdout",
          "text": [
            "Hello, World!\n"
          ]
        }
      ]
    },
    {
      "cell_type": "markdown",
      "source": [
        "# 2. Write a Python program that displays your name and age0\n"
      ],
      "metadata": {
        "id": "IGg9Uvu8NjLU"
      }
    },
    {
      "cell_type": "code",
      "source": [
        "x = str(input( \"enter the name \"))\n",
        "y = input(\"enter the age \")\n",
        "y = int(y)\n",
        "print(\"Name:\",x)\n",
        "print(\"Age:\", y)"
      ],
      "metadata": {
        "colab": {
          "base_uri": "https://localhost:8080/"
        },
        "id": "yr_OkEb1W5_u",
        "outputId": "54f9b5c3-d4f2-43d0-d8b2-7f24f2ee871e"
      },
      "execution_count": null,
      "outputs": [
        {
          "output_type": "stream",
          "name": "stdout",
          "text": [
            "enter the name 23\n",
            "enter the age 54\n",
            "Name: 23\n",
            "Age: 54\n"
          ]
        }
      ]
    },
    {
      "cell_type": "markdown",
      "source": [
        "# 3.Write code to print all the pre-defined keywords in Python using the keyword library."
      ],
      "metadata": {
        "id": "mIfRMN1_OB-A"
      }
    },
    {
      "cell_type": "code",
      "source": [
        "import keyword\n",
        "print(keyword.kwlist[:20])\n",
        "print(keyword.kwlist[20:])\n",
        "print(len(keyword.kwlist))"
      ],
      "metadata": {
        "colab": {
          "base_uri": "https://localhost:8080/"
        },
        "id": "uOvT3bxaS-a0",
        "outputId": "9e515f0c-1689-4ed9-984a-db98d3fbecb5"
      },
      "execution_count": 32,
      "outputs": [
        {
          "output_type": "stream",
          "name": "stdout",
          "text": [
            "['False', 'None', 'True', 'and', 'as', 'assert', 'async', 'await', 'break', 'class', 'continue', 'def', 'del', 'elif', 'else', 'except', 'finally', 'for', 'from', 'global']\n",
            "['if', 'import', 'in', 'is', 'lambda', 'nonlocal', 'not', 'or', 'pass', 'raise', 'return', 'try', 'while', 'with', 'yield']\n",
            "35\n"
          ]
        }
      ]
    },
    {
      "cell_type": "markdown",
      "source": [
        "# 4. Write a program that checks if a given word is a Python keyword?\n"
      ],
      "metadata": {
        "id": "5yC0_QbMV4mB"
      }
    },
    {
      "cell_type": "code",
      "source": [
        "import keyword\n",
        "word = input (\"enter the word: \").replace(\" \",\"\")\n",
        "if keyword.iskeyword(word):\n",
        "  print(word, \"is a keyword\")\n",
        "else:\n",
        "  print(word, \"is not a keyword\")"
      ],
      "metadata": {
        "colab": {
          "base_uri": "https://localhost:8080/"
        },
        "id": "VoNCUWpFV2ih",
        "outputId": "793ccac0-0641-4414-fc55-cc34feca89b3"
      },
      "execution_count": 39,
      "outputs": [
        {
          "output_type": "stream",
          "name": "stdout",
          "text": [
            "enter the word: in\n",
            "in is a keyword\n"
          ]
        }
      ]
    },
    {
      "cell_type": "markdown",
      "source": [
        "# 5.Create a list and tuple in Python, and demonstrate how attempting to change an element works differently."
      ],
      "metadata": {
        "id": "SMLOwwCrNt-1"
      }
    },
    {
      "cell_type": "code",
      "source": [
        " #Create a list and tuple in Python, and demonstrate how attempting to change an element works differently for each.\n",
        "\n",
        "list = [12, \"Ram\", 3+6j, 12.3, \"king\"]\n",
        "tuple = (12, \"Ram\", 3+6j, 12.3, \"king\")\n",
        "print (list)\n",
        "print (tuple)\n",
        "\n",
        "# if want to change the values of this\n",
        "\n",
        "list[0], list[2] = 23, 3+7j #if want to change the value on the place of 2.\n",
        "print(list)\n",
        "\n",
        "# tuple[0] = 23 # hence this is immutable, so it can generate an error.\n",
        "# print(tuple)\n",
        "\n",
        "# if we want to change within the tuple, the we can use the different approach:\n",
        "tuple = tuple[:1]+ (\"krishna\",) + tuple[2:]\n",
        "print(tuple)"
      ],
      "metadata": {
        "colab": {
          "base_uri": "https://localhost:8080/"
        },
        "id": "k8RQLCb4XqjW",
        "outputId": "e3939345-7f61-48ed-956b-7434897eee9a"
      },
      "execution_count": null,
      "outputs": [
        {
          "output_type": "stream",
          "name": "stdout",
          "text": [
            "[12, 'Ram', (3+6j), 12.3, 'king']\n",
            "(12, 'Ram', (3+6j), 12.3, 'king')\n",
            "[23, 'Ram', (3+7j), 12.3, 'king']\n",
            "(12, 'krishna', (3+6j), 12.3, 'king')\n"
          ]
        }
      ]
    },
    {
      "cell_type": "markdown",
      "source": [
        "# 6/7. Write a function to demonstrate the behavior of mutable and immutable argument?"
      ],
      "metadata": {
        "id": "iyJ48qOJmHFa"
      }
    },
    {
      "cell_type": "code",
      "source": [
        "def Demonstrate(x, y):\n",
        "  x+=10 # this is immutable as it will create a new line\n",
        "  y.append(100) # it will add the 100 value with in the same list.\n",
        "  print(\"inside the function\", x)\n",
        "  print(\"inside the function\",y)\n",
        "\n",
        "# Defining immutable and mutable objects\n",
        "x = 50  # Integer (Immutable)\n",
        "y = [1, 2, 3]  # List (Mutable)\n",
        "\n",
        "Demonstrate(x, y)\n",
        "print(\"outside the function\", x)\n",
        "print(\"outside the function\", y)\n"
      ],
      "metadata": {
        "colab": {
          "base_uri": "https://localhost:8080/"
        },
        "id": "UjunE3jXdqeL",
        "outputId": "008c0614-412f-4919-fd0b-c315fadd1fd6"
      },
      "execution_count": null,
      "outputs": [
        {
          "output_type": "stream",
          "name": "stdout",
          "text": [
            "inside the function 60\n",
            "inside the function [1, 2, 3, 100]\n",
            "outside the function 50\n",
            "outside the function [1, 2, 3, 100]\n"
          ]
        }
      ]
    },
    {
      "cell_type": "markdown",
      "source": [
        "# 7.  Write a program to demonstrate the use of logical operators.\n"
      ],
      "metadata": {
        "id": "E_kG46Y3rJVl"
      }
    },
    {
      "cell_type": "code",
      "source": [
        "# It is basically defined as proviode the relation between the relationship of cinditonal statement. It return the boolean value on the basis of relationship between the variables.\n",
        "# They are of 3 trypes:\n",
        "# A. \"OR\" operator\n",
        "# B. \"AND\" operator\n",
        "# c. \"NOT\" operator\n",
        "\n",
        "# Program for demonstrattion:\n",
        "# using 'And\" operator- Both condition must be true\n",
        "\n",
        "voterid_card = input(\"Do you have voterid card in YES or NO: \").strip().upper()\n",
        "Resident_proof = input(\"Do you have Resident proof of delhi: \").strip().upper()\n",
        "if voterid_card == \"YES\" and Resident_proof == \"YES\":\n",
        "  print(\"You are eligible to passport\")\n",
        "elif voterid_card == 'YES' and Resident_proof == 'NO':\n",
        "    print(\"You are not eligible to passport, resident proof is compulsory\")\n",
        "elif voterid_card == 'NO'  and Resident_proof == 'YES':\n",
        "    print(\"You are not eligible to passport, voterid card is necessary\")\n",
        "else:\n",
        "    print(\"You are not eligible to passport, Both documents are required\")\n",
        "\n",
        "\n",
        "  # Using 'or' operator - At least one condition must be True\n",
        "\n",
        "Per_centage = float(input(\" Enter the percentage \"))\n",
        "if Per_centage > 95 or Per_centage <=100:\n",
        "  print(\"Grade A\")\n",
        "elif Per_centage > 85 or Per_centage <=95:\n",
        "  print(\"Grade B\")\n",
        "elif Per_centage > 75 or Per_centage <=85:\n",
        "  print(\"Grade C\")\n",
        "elif Per_centage > 65 or Per_centage <=75:\n",
        "  print(\"Grade D\")\n",
        "\n",
        "# Using 'not' operator - Reversing the condition\n",
        "\n",
        "criminal_record = input(\"Do you have a criminal record? (YES or NO): \").strip().upper()\n",
        "\n",
        "if not (criminal_record == \"YES\"):\n",
        "    print(\"You can apply for a government job.\")\n",
        "else:\n",
        "    print(\"You may not be eligible for a government job.\")\n"
      ],
      "metadata": {
        "id": "z30A003oqWnV",
        "colab": {
          "base_uri": "https://localhost:8080/"
        },
        "outputId": "a8a9ca86-96bf-4e43-f6f3-431ef9eb819c"
      },
      "execution_count": 20,
      "outputs": [
        {
          "output_type": "stream",
          "name": "stdout",
          "text": [
            "Do you have voterid card in YES or NO: no\n",
            "Do you have Resident proof of delhi: no\n",
            "You are not eligible to passport, Both documents are required\n",
            " Enter the percentage96\n",
            "Grade A\n",
            "Do you have a criminal record? (YES or NO): NO\n",
            "You can apply for a government job.\n"
          ]
        }
      ]
    },
    {
      "cell_type": "markdown",
      "source": [
        "# 8. **Write a Python program to convert user input from string to integer, float, and boolean types?**\n",
        "\\"
      ],
      "metadata": {
        "id": "M_N4f8sRyn8c"
      }
    },
    {
      "cell_type": "code",
      "source": [
        "s= input( \"enter the no.\")\n",
        "if s.replace(\" \",\"\").isdigit():\n",
        "  s=int(s)\n",
        "  print(s,type(s))\n",
        "  s=float(s)\n",
        "  print(s,type(s))\n",
        "  s=bool(s)\n",
        "  print(s,type(s))\n",
        "elif s.replace(\" \",\"\").isalpha():\n",
        "  print(\"Invalid input. Please enter a number not the aphabet\")\n",
        "else:\n",
        "  print(\"Invalid input\",s,\".It is a alphanumeirc can not be convereted.\")\n",
        "\n",
        ""
      ],
      "metadata": {
        "colab": {
          "base_uri": "https://localhost:8080/"
        },
        "id": "XqxJyoOf_Swi",
        "outputId": "588a85d4-4947-49c5-dd60-e9ea355debeb"
      },
      "execution_count": 109,
      "outputs": [
        {
          "output_type": "stream",
          "name": "stdout",
          "text": [
            "enter the no. 34\n",
            "34 <class 'int'>\n",
            "34.0 <class 'float'>\n",
            "True <class 'bool'>\n"
          ]
        }
      ]
    },
    {
      "cell_type": "markdown",
      "source": [
        "# 9. Write code to demonstrate type casting with list elements?\n"
      ],
      "metadata": {
        "id": "74M5nfqrNLYf"
      }
    },
    {
      "cell_type": "code",
      "source": [
        "listA = [12, 23, 3+5j, \"ram\", 3.5, True]\n",
        "print(listA)\n",
        "type(listA)\n",
        "\n",
        "# changing the data type of the elements under the list.\n",
        "\n",
        "listA[0] = float(listA[0])\n",
        "listA[1] = str(listA[1])\n",
        "listA[2] = int(listA[2].imag)\n",
        "listA[5] = int(listA[5])\n",
        "print(listA)\n",
        "\n"
      ],
      "metadata": {
        "colab": {
          "base_uri": "https://localhost:8080/"
        },
        "id": "jQnjZX7JNTKh",
        "outputId": "a52ffb41-b355-4534-fab4-5707b6f78ea6"
      },
      "execution_count": 114,
      "outputs": [
        {
          "output_type": "stream",
          "name": "stdout",
          "text": [
            "[12, 23, (3+5j), 'ram', 3.5, True]\n",
            "[12.0, '23', 5, 'ram', 3.5, 1]\n"
          ]
        }
      ]
    },
    {
      "cell_type": "markdown",
      "source": [
        "# 10. Write a program that checks if a number is positive, negative, or zero0\n"
      ],
      "metadata": {
        "id": "-OSOKdmXrkXH"
      }
    },
    {
      "cell_type": "code",
      "source": [
        "num = int(input(\"enter the number \"))\n",
        "if num >0:\n",
        "  print(num, \"is a positive number\")\n",
        "elif num<0:\n",
        "  print(num, \"is a negative number\")\n",
        "else:\n",
        "    print(num, \"is neither negative nor postive it means it is zero\")"
      ],
      "metadata": {
        "colab": {
          "base_uri": "https://localhost:8080/"
        },
        "id": "Kgxp6Yo2PkkF",
        "outputId": "64a97818-9cfa-4475-c398-daaf4efb9fad"
      },
      "execution_count": 121,
      "outputs": [
        {
          "output_type": "stream",
          "name": "stdout",
          "text": [
            "enter the number 0\n",
            "0 is neither negative nor postive it means it is zero\n"
          ]
        }
      ]
    },
    {
      "cell_type": "markdown",
      "source": [
        "# 11. Write a for loop to print numbers from 1 to 100\n"
      ],
      "metadata": {
        "id": "7SJwzG3_s47n"
      }
    },
    {
      "cell_type": "code",
      "source": [
        "List = list(range(1,101))\n",
        "for i in List:\n",
        "  print(i, end=\",\")\n",
        "  if i == 35 or i == 67:\n",
        "   print()"
      ],
      "metadata": {
        "colab": {
          "base_uri": "https://localhost:8080/"
        },
        "id": "88aRzh6Rs92s",
        "outputId": "b00938f7-a75a-4e3f-da40-d524241d101a"
      },
      "execution_count": 133,
      "outputs": [
        {
          "output_type": "stream",
          "name": "stdout",
          "text": [
            "1,2,3,4,5,6,7,8,9,10,11,12,13,14,15,16,17,18,19,20,21,22,23,24,25,26,27,28,29,30,31,32,33,34,35,\n",
            "36,37,38,39,40,41,42,43,44,45,46,47,48,49,50,51,52,53,54,55,56,57,58,59,60,61,62,63,64,65,66,67,\n",
            "68,69,70,71,72,73,74,75,76,77,78,79,80,81,82,83,84,85,86,87,88,89,90,91,92,93,94,95,96,97,98,99,100,"
          ]
        }
      ]
    },
    {
      "cell_type": "markdown",
      "source": [
        "# 12. Write a Python program to find the sum of all even numbers between 1 and 500\n"
      ],
      "metadata": {
        "id": "JQny7pFozRKz"
      }
    },
    {
      "cell_type": "code",
      "source": [
        "sum=0\n",
        "n=500\n",
        "i=1\n",
        "while i<=500:\n",
        "  if i%2==0:\n",
        "    sum+=i\n",
        "  i=i+1\n",
        "print(sum)"
      ],
      "metadata": {
        "colab": {
          "base_uri": "https://localhost:8080/"
        },
        "id": "6M9R60d7zZR-",
        "outputId": "34b2a416-1bae-4ec7-a4bb-5c31a53ffd3a"
      },
      "execution_count": 4,
      "outputs": [
        {
          "output_type": "stream",
          "name": "stdout",
          "text": [
            "62750\n"
          ]
        }
      ]
    },
    {
      "cell_type": "markdown",
      "source": [
        "# 13. Write a program to reverse a string using a while loop?\n"
      ],
      "metadata": {
        "id": "8UjurHhcH5j-"
      }
    },
    {
      "cell_type": "code",
      "source": [
        "s=\"Parveen Kumar\"\n",
        "I=len(s)-1\n",
        "while I>=0:\n",
        "  print(s[I], end=\" \")\n",
        "  I=I-1"
      ],
      "metadata": {
        "colab": {
          "base_uri": "https://localhost:8080/"
        },
        "id": "-HI6hZZ8ICVh",
        "outputId": "48aa899f-8361-401b-c54d-ff0b74a92306"
      },
      "execution_count": 12,
      "outputs": [
        {
          "output_type": "stream",
          "name": "stdout",
          "text": [
            "r a m u K   n e e v r a P "
          ]
        }
      ]
    },
    {
      "cell_type": "markdown",
      "source": [
        "# 14. Write a Python program to calculate the factorial of a number provided by the user using a while loop.\n"
      ],
      "metadata": {
        "id": "uOKebSWIKkOL"
      }
    },
    {
      "cell_type": "code",
      "source": [
        "N= int(input(\"enter the number for factorial \"))\n",
        "i=1\n",
        "s=1\n",
        "while N>=1:\n",
        "  s=N*s\n",
        "  N=N-1\n",
        "print(s)"
      ],
      "metadata": {
        "colab": {
          "base_uri": "https://localhost:8080/"
        },
        "id": "_ltVaIY8JIz_",
        "outputId": "61ba51c8-b485-43d2-8afb-a72860e7c436"
      },
      "execution_count": 18,
      "outputs": [
        {
          "output_type": "stream",
          "name": "stdout",
          "text": [
            "enter the number for factorial 7\n",
            "5040\n"
          ]
        }
      ]
    }
  ]
}